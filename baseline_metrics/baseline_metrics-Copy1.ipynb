{
 "cells": [
  {
   "cell_type": "markdown",
   "id": "obvious-lounge",
   "metadata": {},
   "source": [
    "## Загружаем модель, датасеты и семплируем таргеты"
   ]
  },
  {
   "cell_type": "code",
   "execution_count": 1,
   "id": "christian-bumper",
   "metadata": {},
   "outputs": [],
   "source": [
    "# для импорта из родительского каталога \n",
    "import os\n",
    "import sys\n",
    "import inspect\n",
    "\n",
    "#currentdir = os.path.dirname(os.path.abspath(inspect.getfile(inspect.currentframe())))\n",
    "#parentdir = os.path.dirname(currentdir)\n",
    "#sys.path.insert(0, parentdir) "
   ]
  },
  {
   "cell_type": "code",
   "execution_count": 2,
   "id": "1de5e0c3",
   "metadata": {},
   "outputs": [
    {
     "data": {
      "text/plain": [
       "'C:\\\\Users\\\\filip\\\\PycharmProjects\\\\Diplom\\\\rich-gan-tf-2021_work\\\\baseline_metrics'"
      ]
     },
     "execution_count": 2,
     "metadata": {},
     "output_type": "execute_result"
    }
   ],
   "source": [
    "os.getcwd()"
   ]
  },
  {
   "cell_type": "code",
   "execution_count": 3,
   "id": "cede6ed0",
   "metadata": {},
   "outputs": [],
   "source": [
    "currentdir = os.getcwd()\n",
    "parentdir = os.path.dirname(currentdir)\n",
    "sys.path.insert(0, parentdir) "
   ]
  },
  {
   "cell_type": "code",
   "execution_count": null,
   "id": "91b789e5",
   "metadata": {},
   "outputs": [],
   "source": []
  },
  {
   "cell_type": "code",
   "execution_count": 4,
   "id": "c397a6a5",
   "metadata": {
    "scrolled": true
   },
   "outputs": [
    {
     "name": "stdout",
     "output_type": "stream",
     "text": [
      "C:\\Users\\filip\\PycharmProjects\\Diplom\\rich-gan-tf-2021_work\\baseline_metrics\n",
      "C:\\Users\\filip\\PycharmProjects\\Diplom\\rich-gan-tf-2021_work\n"
     ]
    }
   ],
   "source": [
    "print(currentdir)\n",
    "print(parentdir)"
   ]
  },
  {
   "cell_type": "code",
   "execution_count": 5,
   "id": "7ee7ab1b",
   "metadata": {},
   "outputs": [
    {
     "name": "stdout",
     "output_type": "stream",
     "text": [
      "['C:\\\\Users\\\\filip\\\\PycharmProjects\\\\Diplom\\\\rich-gan-tf-2021_work', 'C:\\\\Users\\\\filip\\\\PycharmProjects\\\\Diplom\\\\rich-gan-tf-2021_work\\\\baseline_metrics', 'C:\\\\Users\\\\filip\\\\anaconda3\\\\envs\\\\RICH_GAN\\\\python310.zip', 'C:\\\\Users\\\\filip\\\\anaconda3\\\\envs\\\\RICH_GAN\\\\DLLs', 'C:\\\\Users\\\\filip\\\\anaconda3\\\\envs\\\\RICH_GAN\\\\lib', 'C:\\\\Users\\\\filip\\\\anaconda3\\\\envs\\\\RICH_GAN', '', 'C:\\\\Users\\\\filip\\\\anaconda3\\\\envs\\\\RICH_GAN\\\\lib\\\\site-packages', 'C:\\\\Users\\\\filip\\\\anaconda3\\\\envs\\\\RICH_GAN\\\\lib\\\\site-packages\\\\win32', 'C:\\\\Users\\\\filip\\\\anaconda3\\\\envs\\\\RICH_GAN\\\\lib\\\\site-packages\\\\win32\\\\lib', 'C:\\\\Users\\\\filip\\\\anaconda3\\\\envs\\\\RICH_GAN\\\\lib\\\\site-packages\\\\Pythonwin']\n"
     ]
    }
   ],
   "source": [
    "print(sys.path)"
   ]
  },
  {
   "cell_type": "code",
   "execution_count": 6,
   "id": "stylish-durham",
   "metadata": {},
   "outputs": [],
   "source": [
    "import pandas as pd\n",
    "from load_model import MetricsModel"
   ]
  },
  {
   "cell_type": "code",
   "execution_count": 7,
   "id": "f3c0bb96",
   "metadata": {},
   "outputs": [
    {
     "data": {
      "text/plain": [
       "2"
      ]
     },
     "execution_count": 7,
     "metadata": {},
     "output_type": "execute_result"
    }
   ],
   "source": [
    "os.system('python ./richgan/utils/test_file.py')"
   ]
  },
  {
   "cell_type": "code",
   "execution_count": 8,
   "id": "958958ac",
   "metadata": {},
   "outputs": [
    {
     "data": {
      "text/plain": [
       "'C:\\\\Users\\\\filip\\\\PycharmProjects\\\\Diplom\\\\rich-gan-tf-2021_work\\\\baseline_metrics'"
      ]
     },
     "execution_count": 8,
     "metadata": {},
     "output_type": "execute_result"
    }
   ],
   "source": [
    "os.getcwd()"
   ]
  },
  {
   "cell_type": "code",
   "execution_count": 9,
   "id": "62706622",
   "metadata": {},
   "outputs": [],
   "source": [
    "config_file= r'C:\\Users\\filip\\PycharmProjects\\Diplom\\rich-gan-tf-2021_work\\saved_models\\ModelMuonNormLayerMC\\config.yaml'\n",
    "chpt_dir =r'C:\\Users\\filip\\PycharmProjects\\Diplom\\rich-gan-tf-2021_work\\saved_models'"
   ]
  },
  {
   "cell_type": "code",
   "execution_count": 10,
   "id": "f0042d0e",
   "metadata": {},
   "outputs": [
    {
     "data": {
      "text/plain": [
       "'C:\\\\Users\\\\filip\\\\PycharmProjects\\\\Diplom\\\\rich-gan-tf-2021_work\\\\saved_models\\\\ModelMuonNormLayerMC\\\\config.yaml'"
      ]
     },
     "execution_count": 10,
     "metadata": {},
     "output_type": "execute_result"
    }
   ],
   "source": [
    "config_file"
   ]
  },
  {
   "cell_type": "code",
   "execution_count": 11,
   "id": "unexpected-valley",
   "metadata": {},
   "outputs": [
    {
     "ename": "AssertionError",
     "evalue": "",
     "output_type": "error",
     "traceback": [
      "\u001b[1;31m---------------------------------------------------------------------------\u001b[0m",
      "\u001b[1;31mAssertionError\u001b[0m                            Traceback (most recent call last)",
      "Cell \u001b[1;32mIn[11], line 3\u001b[0m\n\u001b[0;32m      1\u001b[0m config_file \u001b[38;5;241m=\u001b[39m \u001b[38;5;124mr\u001b[39m\u001b[38;5;124m'\u001b[39m\u001b[38;5;124mC:\u001b[39m\u001b[38;5;124m\\\u001b[39m\u001b[38;5;124mUsers\u001b[39m\u001b[38;5;124m\\\u001b[39m\u001b[38;5;124mfilip\u001b[39m\u001b[38;5;124m\\\u001b[39m\u001b[38;5;124mPycharmProjects\u001b[39m\u001b[38;5;124m\\\u001b[39m\u001b[38;5;124mDiplom\u001b[39m\u001b[38;5;124m\\\u001b[39m\u001b[38;5;124mrich-gan-tf-2021_work\u001b[39m\u001b[38;5;124m\\\u001b[39m\u001b[38;5;124msaved_models\u001b[39m\u001b[38;5;124m\\\u001b[39m\u001b[38;5;124mModelMuonNormLayerMC\u001b[39m\u001b[38;5;124m\\\u001b[39m\u001b[38;5;124mconfig.yaml\u001b[39m\u001b[38;5;124m'\u001b[39m\n\u001b[0;32m      2\u001b[0m chpt_dir \u001b[38;5;241m=\u001b[39m \u001b[38;5;124mr\u001b[39m\u001b[38;5;124m'\u001b[39m\u001b[38;5;124mC:\u001b[39m\u001b[38;5;124m\\\u001b[39m\u001b[38;5;124mUsers\u001b[39m\u001b[38;5;124m\\\u001b[39m\u001b[38;5;124mfilip\u001b[39m\u001b[38;5;124m\\\u001b[39m\u001b[38;5;124mPycharmProjects\u001b[39m\u001b[38;5;124m\\\u001b[39m\u001b[38;5;124mDiplom\u001b[39m\u001b[38;5;124m\\\u001b[39m\u001b[38;5;124mrich-gan-tf-2021_work\u001b[39m\u001b[38;5;124m\\\u001b[39m\u001b[38;5;124msaved_models\u001b[39m\u001b[38;5;124m\\\u001b[39m\u001b[38;5;124mModelMuonNormLayerMC\u001b[39m\u001b[38;5;124m'\u001b[39m\n\u001b[1;32m----> 3\u001b[0m m_model \u001b[38;5;241m=\u001b[39m \u001b[43mMetricsModel\u001b[49m\u001b[43m(\u001b[49m\u001b[43mconfig_file\u001b[49m\u001b[43m,\u001b[49m\u001b[43m \u001b[49m\u001b[43mchpt_dir\u001b[49m\u001b[43m)\u001b[49m\n\u001b[0;32m      4\u001b[0m targets_data_dict \u001b[38;5;241m=\u001b[39m m_model\u001b[38;5;241m.\u001b[39mget_targets()\n",
      "File \u001b[1;32m~\\PycharmProjects\\Diplom\\rich-gan-tf-2021_work\\baseline_metrics\\load_model.py:314\u001b[0m, in \u001b[0;36mMetricsModel.__init__\u001b[1;34m(self, config_file, chpt_dir, gpu_num)\u001b[0m\n\u001b[0;32m    311\u001b[0m \u001b[38;5;66;03m# считываем конфиг для гана\u001b[39;00m\n\u001b[0;32m    312\u001b[0m gan_config \u001b[38;5;241m=\u001b[39m deepcopy(config[\u001b[38;5;124m'\u001b[39m\u001b[38;5;124mcreate_gan\u001b[39m\u001b[38;5;124m'\u001b[39m])\n\u001b[1;32m--> 314\u001b[0m dm \u001b[38;5;241m=\u001b[39m create_data_manager(\u001b[38;5;241m*\u001b[39m\u001b[38;5;241m*\u001b[39mconfig[\u001b[38;5;124m'\u001b[39m\u001b[38;5;124mcreate_data_manager\u001b[39m\u001b[38;5;124m'\u001b[39m])\n\u001b[0;32m    315\u001b[0m gan \u001b[38;5;241m=\u001b[39m create_gan(\u001b[38;5;241m*\u001b[39m\u001b[38;5;241m*\u001b[39mgan_config)\n\u001b[0;32m    317\u001b[0m \u001b[38;5;28mself\u001b[39m\u001b[38;5;241m.\u001b[39mtm \u001b[38;5;241m=\u001b[39m create_training_manager(\n\u001b[0;32m    318\u001b[0m     model\u001b[38;5;241m=\u001b[39mgan, data_manager\u001b[38;5;241m=\u001b[39mdm, \u001b[38;5;241m*\u001b[39m\u001b[38;5;241m*\u001b[39mconfig[\u001b[38;5;124m'\u001b[39m\u001b[38;5;124mcreate_training_manager\u001b[39m\u001b[38;5;124m'\u001b[39m]\n\u001b[0;32m    319\u001b[0m )\n",
      "File \u001b[1;32m~\\PycharmProjects\\Diplom\\rich-gan-tf-2021_work\\richgan\\utils\\data.py:267\u001b[0m, in \u001b[0;36mcreate_data_manager\u001b[1;34m(**kwargs)\u001b[0m\n\u001b[0;32m    266\u001b[0m \u001b[38;5;28;01mdef\u001b[39;00m \u001b[38;5;21mcreate_data_manager\u001b[39m(\u001b[38;5;241m*\u001b[39m\u001b[38;5;241m*\u001b[39mkwargs):\n\u001b[1;32m--> 267\u001b[0m     \u001b[38;5;28;01mreturn\u001b[39;00m dm_factory(classname\u001b[38;5;241m=\u001b[39m\u001b[38;5;124m\"\u001b[39m\u001b[38;5;124mDataManager\u001b[39m\u001b[38;5;124m\"\u001b[39m, \u001b[38;5;241m*\u001b[39m\u001b[38;5;241m*\u001b[39mkwargs)\n",
      "File \u001b[1;32m~\\PycharmProjects\\Diplom\\rich-gan-tf-2021_work\\richgan\\utils\\factories.py:10\u001b[0m, in \u001b[0;36mmake_factory.<locals>.factory\u001b[1;34m(classname, **kwargs)\u001b[0m\n\u001b[0;32m      8\u001b[0m     arguments\u001b[38;5;241m.\u001b[39mupdate(class_constructor_defaults[classname])\n\u001b[0;32m      9\u001b[0m arguments\u001b[38;5;241m.\u001b[39mupdate(kwargs)\n\u001b[1;32m---> 10\u001b[0m \u001b[38;5;28;01mreturn\u001b[39;00m {i_class\u001b[38;5;241m.\u001b[39m\u001b[38;5;18m__name__\u001b[39m: i_class \u001b[38;5;28;01mfor\u001b[39;00m i_class \u001b[38;5;129;01min\u001b[39;00m classes}[classname](\n\u001b[0;32m     11\u001b[0m     \u001b[38;5;241m*\u001b[39m\u001b[38;5;241m*\u001b[39marguments\n\u001b[0;32m     12\u001b[0m )\n",
      "File \u001b[1;32m~\\PycharmProjects\\Diplom\\rich-gan-tf-2021_work\\richgan\\utils\\data.py:51\u001b[0m, in \u001b[0;36mDataManager.__init__\u001b[1;34m(self, particle, data_path, data_shuffle_split_random_seed, test_size, target_columns, feature_columns, weight_column, preprocessor_config, preprocessor, extra_sample_config, csv_delimiter, preselection, **kwargs)\u001b[0m\n\u001b[0;32m     48\u001b[0m \u001b[38;5;28mself\u001b[39m\u001b[38;5;241m.\u001b[39mcolumns \u001b[38;5;241m=\u001b[39m \u001b[38;5;28mself\u001b[39m\u001b[38;5;241m.\u001b[39mtarget_columns \u001b[38;5;241m+\u001b[39m \u001b[38;5;28mself\u001b[39m\u001b[38;5;241m.\u001b[39mfeature_columns \u001b[38;5;241m+\u001b[39m [\u001b[38;5;28mself\u001b[39m\u001b[38;5;241m.\u001b[39mweight_column]\n\u001b[0;32m     49\u001b[0m \u001b[38;5;28mself\u001b[39m\u001b[38;5;241m.\u001b[39mfilenames \u001b[38;5;241m=\u001b[39m \u001b[38;5;28mlist\u001b[39m(Path(\u001b[38;5;28mself\u001b[39m\u001b[38;5;241m.\u001b[39mdata_path)\u001b[38;5;241m.\u001b[39mglob(\u001b[38;5;124mf\u001b[39m\u001b[38;5;124m\"\u001b[39m\u001b[38;5;132;01m{\u001b[39;00mparticle\u001b[38;5;132;01m}\u001b[39;00m\u001b[38;5;124m_*.csv\u001b[39m\u001b[38;5;124m\"\u001b[39m))\n\u001b[1;32m---> 51\u001b[0m \u001b[38;5;28;43mself\u001b[39;49m\u001b[38;5;241;43m.\u001b[39;49m\u001b[43mload_data\u001b[49m\u001b[43m(\u001b[49m\u001b[43m)\u001b[49m\n\u001b[0;32m     52\u001b[0m \u001b[38;5;28mself\u001b[39m\u001b[38;5;241m.\u001b[39msplit_data()\n\u001b[0;32m     53\u001b[0m \u001b[38;5;28;01mif\u001b[39;00m extra_sample_config \u001b[38;5;129;01mis\u001b[39;00m \u001b[38;5;129;01mnot\u001b[39;00m \u001b[38;5;28;01mNone\u001b[39;00m:\n",
      "File \u001b[1;32m~\\PycharmProjects\\Diplom\\rich-gan-tf-2021_work\\richgan\\utils\\data.py:119\u001b[0m, in \u001b[0;36mDataManager.load_data\u001b[1;34m(self, extra, particle, path, csv_delimiter, target_columns, feature_columns, weight_column, aux_features)\u001b[0m\n\u001b[0;32m    115\u001b[0m             \u001b[38;5;28;01melse\u001b[39;00m:\n\u001b[0;32m    116\u001b[0m                 \u001b[38;5;28mprint\u001b[39m(\u001b[38;5;124m'\u001b[39m\u001b[38;5;124mAugmentation not found:\u001b[39m\u001b[38;5;124m'\u001b[39m, augmentation)\n\u001b[1;32m--> 119\u001b[0m \u001b[38;5;28;01massert\u001b[39;00m \u001b[38;5;28mlen\u001b[39m(filenames) \u001b[38;5;241m>\u001b[39m \u001b[38;5;241m0\u001b[39m\n\u001b[0;32m    120\u001b[0m \u001b[38;5;28mprint\u001b[39m(\u001b[38;5;124mf\u001b[39m\u001b[38;5;124m\"\u001b[39m\u001b[38;5;124mLoading \u001b[39m\u001b[38;5;132;01m{\u001b[39;00m\u001b[38;5;124m'\u001b[39m\u001b[38;5;124mextra\u001b[39m\u001b[38;5;124m'\u001b[39m \u001b[38;5;28;01mif\u001b[39;00m extra \u001b[38;5;28;01melse\u001b[39;00m \u001b[38;5;124m'\u001b[39m\u001b[38;5;124mmain\u001b[39m\u001b[38;5;124m'\u001b[39m\u001b[38;5;132;01m}\u001b[39;00m\u001b[38;5;124m dataset\u001b[39m\u001b[38;5;124m\"\u001b[39m, flush\u001b[38;5;241m=\u001b[39m\u001b[38;5;28;01mTrue\u001b[39;00m)\n\u001b[0;32m    121\u001b[0m \u001b[38;5;28;01mif\u001b[39;00m target_columns \u001b[38;5;129;01mis\u001b[39;00m \u001b[38;5;28;01mNone\u001b[39;00m:\n",
      "\u001b[1;31mAssertionError\u001b[0m: "
     ]
    }
   ],
   "source": [
    "config_file = r'C:\\Users\\filip\\PycharmProjects\\Diplom\\rich-gan-tf-2021_work\\saved_models\\ModelMuonNormLayerMC\\config.yaml'\n",
    "chpt_dir = r'C:\\Users\\filip\\PycharmProjects\\Diplom\\rich-gan-tf-2021_work\\saved_models\\ModelMuonNormLayerMC'\n",
    "m_model = MetricsModel(config_file, chpt_dir)\n",
    "targets_data_dict = m_model.get_targets()"
   ]
  },
  {
   "cell_type": "code",
   "execution_count": null,
   "id": "banned-athletics",
   "metadata": {},
   "outputs": [],
   "source": [
    "targets_data_dict.keys()"
   ]
  },
  {
   "cell_type": "code",
   "execution_count": null,
   "id": "90c259e0",
   "metadata": {},
   "outputs": [],
   "source": []
  },
  {
   "cell_type": "markdown",
   "id": "whole-appendix",
   "metadata": {},
   "source": [
    "### Признаки"
   ]
  },
  {
   "cell_type": "code",
   "execution_count": null,
   "id": "french-hands",
   "metadata": {},
   "outputs": [],
   "source": [
    "# при обучении используется только: \n",
    "# Brunel_P, Brunel_ETA, nSPDhits\n",
    "targets_data_dict['features']"
   ]
  },
  {
   "cell_type": "markdown",
   "id": "built-brazilian",
   "metadata": {},
   "source": [
    "## Рисуем промежуточные графики "
   ]
  },
  {
   "cell_type": "code",
   "execution_count": null,
   "id": "wicked-delay",
   "metadata": {},
   "outputs": [],
   "source": [
    "%matplotlib inline\n",
    "\n",
    "from plot_targets import plot_Hist1D"
   ]
  },
  {
   "cell_type": "code",
   "execution_count": null,
   "id": "restricted-remove",
   "metadata": {
    "scrolled": false
   },
   "outputs": [],
   "source": [
    "dll_list = plot_Hist1D(targets_data_dict['features'],\n",
    "                targets_data_dict['targets_real'],\n",
    "                targets_data_dict['targets_fake_gan'],\n",
    "                targets_data_dict['targets_fake_kde'],\n",
    "                targets_data_dict['weights'],\n",
    "                model_name='GAN (no wght)', model_name2='KDE')"
   ]
  },
  {
   "cell_type": "markdown",
   "id": "cooperative-clinton",
   "metadata": {},
   "source": [
    "### Эффектировности удобные для просмотра "
   ]
  },
  {
   "cell_type": "code",
   "execution_count": null,
   "id": "biblical-poultry",
   "metadata": {},
   "outputs": [],
   "source": [
    "from plot_efficiency import plot_EfficiencyDouble"
   ]
  },
  {
   "cell_type": "code",
   "execution_count": null,
   "id": "third-musician",
   "metadata": {},
   "outputs": [],
   "source": [
    "# чтобы удобнее смотреть, нужно отобрать только немного эффективностей\n",
    "thresholds = [[0.95], [0.05], [0.95], [0.05]]"
   ]
  },
  {
   "cell_type": "code",
   "execution_count": null,
   "id": "negative-murder",
   "metadata": {
    "scrolled": false
   },
   "outputs": [],
   "source": [
    "efficiency_dict = plot_EfficiencyDouble(targets_data_dict['features'],\n",
    "                                         targets_data_dict['targets_real'],\n",
    "                                         targets_data_dict['targets_fake_gan'],\n",
    "                                         targets_data_dict['targets_fake_kde'],\n",
    "                                         targets_data_dict['weights'],\n",
    "                                         thresholds = thresholds,\n",
    "                                         model_names=['GAN  (no wght)', 'KDE'])"
   ]
  },
  {
   "cell_type": "markdown",
   "id": "infrared-harassment",
   "metadata": {},
   "source": [
    "### Эффективности нужные для итоговых метрик "
   ]
  },
  {
   "cell_type": "code",
   "execution_count": null,
   "id": "damaged-symphony",
   "metadata": {},
   "outputs": [],
   "source": [
    "# нужно взять все эффетивности \n",
    "thresholds = [[0.05, 0.1, 0.25, 0.5, 0.75, 0.9, 0.95],\n",
    "            [0.05, 0.1, 0.25, 0.5, 0.75, 0.9, 0.95],\n",
    "            [0.05, 0.1, 0.25, 0.5, 0.75, 0.9, 0.95],\n",
    "            [0.05, 0.1, 0.25, 0.5, 0.75, 0.9, 0.95]]"
   ]
  },
  {
   "cell_type": "code",
   "execution_count": null,
   "id": "detailed-injection",
   "metadata": {},
   "outputs": [],
   "source": [
    "efficiency_dict = plot_EfficiencyDouble(targets_data_dict['features'],\n",
    "                                         targets_data_dict['targets_real'],\n",
    "                                         targets_data_dict['targets_fake_gan'],\n",
    "                                         targets_data_dict['targets_fake_kde'],\n",
    "                                         targets_data_dict['weights'],\n",
    "                                         thresholds = thresholds,\n",
    "                                         model_names=['GAN  (no wght)', 'KDE'])"
   ]
  },
  {
   "cell_type": "code",
   "execution_count": null,
   "id": "centered-genesis",
   "metadata": {},
   "outputs": [],
   "source": [
    "efficiency_dict['EfficiencyMaker:1']['GAN']['eff_ratio_RichDLLe_vs_Brunel_P_at_[0.05, 0.1, 0.25, 0.5, 0.75, 0.9, 0.95]']"
   ]
  },
  {
   "cell_type": "markdown",
   "id": "powerful-background",
   "metadata": {},
   "source": [
    "## Итоговые метрики"
   ]
  },
  {
   "cell_type": "code",
   "execution_count": null,
   "id": "every-fighter",
   "metadata": {},
   "outputs": [],
   "source": [
    "from math import sqrt"
   ]
  },
  {
   "cell_type": "code",
   "execution_count": null,
   "id": "nervous-fossil",
   "metadata": {},
   "outputs": [],
   "source": [
    "# вычисляем расстояние по идее Артема\n",
    "def calculate_dist(bins):\n",
    "    dis_sum = 0\n",
    "    for bin_x in bins.iterrows():\n",
    "        eff_ratio = bin_x[1][0]\n",
    "        err_low = bin_x[1][1]\n",
    "        err_high = bin_x[1][2]\n",
    "        if eff_ratio <= 1:\n",
    "            dist = ((1-eff_ratio)/err_high)**2\n",
    "        else:\n",
    "            dist = ((1-eff_ratio)/err_low)**2\n",
    "        dis_sum += dist\n",
    "    return dis_sum"
   ]
  },
  {
   "cell_type": "code",
   "execution_count": null,
   "id": "authorized-jamaica",
   "metadata": {},
   "outputs": [],
   "source": [
    "# если брать корень в самом конце\n",
    "def dis_for_model(raw_output_dict, model_name, percents):\n",
    "    dis_sum = 0\n",
    "    for eff_name in list(raw_output_dict['EfficiencyMaker:1'][model_name]):\n",
    "        # чтобы не было слишком сильной корреляции\n",
    "        if '_reverse' in eff_name or '_P_T_' in eff_name:\n",
    "            continue\n",
    "        all_percent_dist = 0\n",
    "        for percent in percents:\n",
    "            eff_ratio_column = 'eff_ratio_' + str(percent)\n",
    "            eff_ratio_err_low_column = 'eff_ratio_err_low_' + str(percent)\n",
    "            eff_ratio_err_high_column = 'eff_ratio_err_high_' + str(percent)\n",
    "            bins = raw_output_dict['EfficiencyMaker:1'][model_name][eff_name][[eff_ratio_column,\n",
    "                                                                               eff_ratio_err_low_column,\n",
    "                                                                               eff_ratio_err_high_column]]\n",
    "            percent_dist = calculate_dist(bins)\n",
    "            # складываем для всех процентов\n",
    "            all_percent_dist += percent_dist\n",
    "\n",
    "        dis_sum += all_percent_dist\n",
    "    return sqrt(dis_sum)"
   ]
  },
  {
   "cell_type": "code",
   "execution_count": null,
   "id": "skilled-generic",
   "metadata": {},
   "outputs": [],
   "source": [
    "# Если брать корень после каждого графика\n",
    "def dis_for_model_end(raw_output_dict, model_name, percents):\n",
    "    dis_sum = 0\n",
    "    for eff_name in list(raw_output_dict['EfficiencyMaker:1'][model_name]):\n",
    "        # чтобы не было слишком сильной корреляции\n",
    "        if '_reverse' in eff_name or '_P_T_' in eff_name:\n",
    "            continue\n",
    "        all_percent_dist = 0\n",
    "        for percent in percents:\n",
    "            eff_ratio_column = 'eff_ratio_'+str(percent)\n",
    "            eff_ratio_err_low_column = 'eff_ratio_err_low_'+str(percent)\n",
    "            eff_ratio_err_high_column = 'eff_ratio_err_high_'+str(percent)\n",
    "            bins = raw_output_dict['EfficiencyMaker:1'][model_name][eff_name][[eff_ratio_column,\n",
    "                                                                               eff_ratio_err_low_column,\n",
    "                                                                               eff_ratio_err_high_column]]\n",
    "            percent_dist = calculate_dist(bins)\n",
    "            # складываем для всех процентов\n",
    "            all_percent_dist += percent_dist\n",
    "\n",
    "        dis_sum += sqrt(all_percent_dist)\n",
    "    return dis_sum\n"
   ]
  },
  {
   "cell_type": "code",
   "execution_count": null,
   "id": "chicken-asbestos",
   "metadata": {},
   "outputs": [],
   "source": [
    "def compare_metrics(efficiency_dict):\n",
    "    percents_list = [0.05, 0.1, 0.25, 0.5, 0.75, 0.9, 0.95]\n",
    "    dist_list = {'GAN': [], 'KDE': []}\n",
    "    for percent in percents_list:\n",
    "        dis_sum = dis_for_model(raw_output_dict = efficiency_dict, model_name='GAN', percents=[percent])\n",
    "        dist_list['GAN'].append(dis_sum)\n",
    "        dis_sum = dis_for_model(raw_output_dict = efficiency_dict, model_name='KDE', percents=[percent])\n",
    "        dist_list['KDE'].append(dis_sum)\n",
    "\n",
    "    print('Берем корень в самом конце:')\n",
    "    print('GAN:', dist_list['GAN'][-1])\n",
    "    print('KDE:', dist_list['KDE'][-1])\n",
    "\n",
    "    dist_list2 = {'GAN': [], 'KDE': []}\n",
    "    for percent in percents_list:\n",
    "        dis_sum = dis_for_model_end(raw_output_dict = efficiency_dict, model_name='GAN', percents=[percent])\n",
    "        dist_list2['GAN'].append(dis_sum)\n",
    "        dis_sum = dis_for_model_end(raw_output_dict = efficiency_dict, model_name='KDE', percents=[percent])\n",
    "        dist_list2['KDE'].append(dis_sum)\n",
    "\n",
    "    print('Берем корень в после каждого графика:')\n",
    "    print('GAN:', dist_list2['GAN'][-1])\n",
    "    print('KDE:', dist_list2['KDE'][-1])\n",
    "    return  dist_list, dist_list2"
   ]
  },
  {
   "cell_type": "code",
   "execution_count": null,
   "id": "characteristic-speech",
   "metadata": {},
   "outputs": [],
   "source": [
    "dist_list, dist_list2 = compare_metrics(efficiency_dict)"
   ]
  },
  {
   "cell_type": "code",
   "execution_count": null,
   "id": "printable-supply",
   "metadata": {},
   "outputs": [],
   "source": []
  }
 ],
 "metadata": {
  "kernelspec": {
   "display_name": "Python 3 (ipykernel)",
   "language": "python",
   "name": "python3"
  },
  "language_info": {
   "codemirror_mode": {
    "name": "ipython",
    "version": 3
   },
   "file_extension": ".py",
   "mimetype": "text/x-python",
   "name": "python",
   "nbconvert_exporter": "python",
   "pygments_lexer": "ipython3",
   "version": "3.10.9"
  }
 },
 "nbformat": 4,
 "nbformat_minor": 5
}
